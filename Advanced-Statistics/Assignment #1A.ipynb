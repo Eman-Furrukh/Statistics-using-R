{
 "cells": [
  {
   "cell_type": "markdown",
   "id": "a1d6d83c",
   "metadata": {},
   "source": [
    "# Advanced Statistics"
   ]
  },
  {
   "cell_type": "markdown",
   "id": "26526543",
   "metadata": {},
   "source": [
    "# Assignment #3"
   ]
  },
  {
   "cell_type": "markdown",
   "id": "da80e0b3",
   "metadata": {},
   "source": [
    "# Part - II"
   ]
  },
  {
   "cell_type": "markdown",
   "id": "c5ea8d0d",
   "metadata": {},
   "source": [
    "Shamail Aamir Khan "
   ]
  },
  {
   "cell_type": "markdown",
   "id": "cce28a5f",
   "metadata": {},
   "source": [
    "Eman Furrukh"
   ]
  },
  {
   "cell_type": "markdown",
   "id": "62f6d26b",
   "metadata": {},
   "source": [
    "# Q1) Part A:"
   ]
  },
  {
   "cell_type": "markdown",
   "id": "18f9962c",
   "metadata": {},
   "source": [
    "Population of Interest: Customers of the mobile phone brand"
   ]
  },
  {
   "cell_type": "markdown",
   "id": "b41b1efd",
   "metadata": {},
   "source": [
    "Null Hypothesis: The number of satisfied customers is equal to or less than 52% (p <= 0.52)"
   ]
  },
  {
   "cell_type": "markdown",
   "id": "f958245f",
   "metadata": {},
   "source": [
    "Alternative Hypothesis: The number of satisfied customers is greater than 52% (p > 0.52)"
   ]
  },
  {
   "cell_type": "markdown",
   "id": "66b8b2d4",
   "metadata": {},
   "source": [
    "# Q1) Part B:"
   ]
  },
  {
   "cell_type": "code",
   "execution_count": 1,
   "id": "967525f8",
   "metadata": {},
   "outputs": [],
   "source": [
    "import math\n",
    "from statsmodels.stats.proportion import proportions_ztest"
   ]
  },
  {
   "cell_type": "code",
   "execution_count": 2,
   "id": "93c500d2",
   "metadata": {},
   "outputs": [],
   "source": [
    "# Given information\n",
    "n = 1000\n",
    "p = 560 / n\n",
    "H0 = 0.52"
   ]
  },
  {
   "cell_type": "code",
   "execution_count": 3,
   "id": "a425626f",
   "metadata": {},
   "outputs": [],
   "source": [
    "# Conduct z-test\n",
    "count = p * n\n",
    "stat, p_value = proportions_ztest(count, n, H0, alternative='larger')"
   ]
  },
  {
   "cell_type": "code",
   "execution_count": 4,
   "id": "cee99392",
   "metadata": {},
   "outputs": [
    {
     "name": "stdout",
     "output_type": "stream",
     "text": [
      "Z-test statistic: 2.54823595718813\n",
      "P-value: 0.005413460638565616\n"
     ]
    }
   ],
   "source": [
    "# Print the results\n",
    "print(\"Z-test statistic:\", stat)\n",
    "print(\"P-value:\", p_value)"
   ]
  },
  {
   "cell_type": "markdown",
   "id": "8394b25f",
   "metadata": {},
   "source": [
    "# Q2) Part A:"
   ]
  },
  {
   "cell_type": "markdown",
   "id": "85ae35f5",
   "metadata": {},
   "source": [
    "Population of Interest: All member countries of the United Nations that participated in the survey"
   ]
  },
  {
   "cell_type": "markdown",
   "id": "559f7ac4",
   "metadata": {},
   "source": [
    "Null Hypothesis: The average GDP of the world is greater than or equal to 5400 (u >= 5400)"
   ]
  },
  {
   "cell_type": "markdown",
   "id": "643b7b44",
   "metadata": {},
   "source": [
    "Alternative Hypothesis: The average GDP of the world is less than 5400 (u < 5400)"
   ]
  },
  {
   "cell_type": "markdown",
   "id": "df82bde7",
   "metadata": {},
   "source": [
    "# Q2) Part B:"
   ]
  },
  {
   "cell_type": "code",
   "execution_count": 5,
   "id": "e5b7b317",
   "metadata": {},
   "outputs": [],
   "source": [
    "import pandas as pd\n",
    "import statistics\n",
    "from scipy import stats"
   ]
  },
  {
   "cell_type": "code",
   "execution_count": 6,
   "id": "7ea52846",
   "metadata": {},
   "outputs": [
    {
     "data": {
      "text/html": [
       "<div>\n",
       "<style scoped>\n",
       "    .dataframe tbody tr th:only-of-type {\n",
       "        vertical-align: middle;\n",
       "    }\n",
       "\n",
       "    .dataframe tbody tr th {\n",
       "        vertical-align: top;\n",
       "    }\n",
       "\n",
       "    .dataframe thead th {\n",
       "        text-align: right;\n",
       "    }\n",
       "</style>\n",
       "<table border=\"1\" class=\"dataframe\">\n",
       "  <thead>\n",
       "    <tr style=\"text-align: right;\">\n",
       "      <th></th>\n",
       "      <th>Country</th>\n",
       "      <th>Year</th>\n",
       "      <th>Status</th>\n",
       "      <th>Life expectancy</th>\n",
       "      <th>Adult Mortality</th>\n",
       "      <th>infant deaths</th>\n",
       "      <th>Alcohol</th>\n",
       "      <th>percentage expenditure</th>\n",
       "      <th>Hepatitis B</th>\n",
       "      <th>Measles</th>\n",
       "      <th>...</th>\n",
       "      <th>Polio</th>\n",
       "      <th>Total expenditure</th>\n",
       "      <th>Diphtheria</th>\n",
       "      <th>HIV/AIDS</th>\n",
       "      <th>GDP</th>\n",
       "      <th>Population</th>\n",
       "      <th>thinness  1-19 years</th>\n",
       "      <th>thinness 5-9 years</th>\n",
       "      <th>Income composition of resources</th>\n",
       "      <th>Schooling</th>\n",
       "    </tr>\n",
       "  </thead>\n",
       "  <tbody>\n",
       "    <tr>\n",
       "      <th>0</th>\n",
       "      <td>Afghanistan</td>\n",
       "      <td>2015</td>\n",
       "      <td>Developing</td>\n",
       "      <td>65.0</td>\n",
       "      <td>263</td>\n",
       "      <td>62</td>\n",
       "      <td>0.01</td>\n",
       "      <td>71.279624</td>\n",
       "      <td>65</td>\n",
       "      <td>1154</td>\n",
       "      <td>...</td>\n",
       "      <td>6</td>\n",
       "      <td>8.16</td>\n",
       "      <td>65</td>\n",
       "      <td>0.1</td>\n",
       "      <td>584.259210</td>\n",
       "      <td>33700000.0</td>\n",
       "      <td>17.2</td>\n",
       "      <td>17.3</td>\n",
       "      <td>0.479</td>\n",
       "      <td>10.1</td>\n",
       "    </tr>\n",
       "    <tr>\n",
       "      <th>1</th>\n",
       "      <td>Afghanistan</td>\n",
       "      <td>2014</td>\n",
       "      <td>Developing</td>\n",
       "      <td>59.9</td>\n",
       "      <td>271</td>\n",
       "      <td>64</td>\n",
       "      <td>0.01</td>\n",
       "      <td>73.523582</td>\n",
       "      <td>62</td>\n",
       "      <td>492</td>\n",
       "      <td>...</td>\n",
       "      <td>58</td>\n",
       "      <td>8.18</td>\n",
       "      <td>62</td>\n",
       "      <td>0.1</td>\n",
       "      <td>612.696514</td>\n",
       "      <td>327582.0</td>\n",
       "      <td>17.5</td>\n",
       "      <td>17.5</td>\n",
       "      <td>0.476</td>\n",
       "      <td>10.0</td>\n",
       "    </tr>\n",
       "    <tr>\n",
       "      <th>2</th>\n",
       "      <td>Afghanistan</td>\n",
       "      <td>2013</td>\n",
       "      <td>Developing</td>\n",
       "      <td>59.9</td>\n",
       "      <td>268</td>\n",
       "      <td>66</td>\n",
       "      <td>0.01</td>\n",
       "      <td>73.219243</td>\n",
       "      <td>64</td>\n",
       "      <td>430</td>\n",
       "      <td>...</td>\n",
       "      <td>62</td>\n",
       "      <td>8.13</td>\n",
       "      <td>64</td>\n",
       "      <td>0.1</td>\n",
       "      <td>631.744976</td>\n",
       "      <td>31700000.0</td>\n",
       "      <td>17.7</td>\n",
       "      <td>17.7</td>\n",
       "      <td>0.470</td>\n",
       "      <td>9.9</td>\n",
       "    </tr>\n",
       "    <tr>\n",
       "      <th>3</th>\n",
       "      <td>Afghanistan</td>\n",
       "      <td>2012</td>\n",
       "      <td>Developing</td>\n",
       "      <td>59.5</td>\n",
       "      <td>272</td>\n",
       "      <td>69</td>\n",
       "      <td>0.01</td>\n",
       "      <td>78.184215</td>\n",
       "      <td>67</td>\n",
       "      <td>2787</td>\n",
       "      <td>...</td>\n",
       "      <td>67</td>\n",
       "      <td>8.52</td>\n",
       "      <td>67</td>\n",
       "      <td>0.1</td>\n",
       "      <td>669.959000</td>\n",
       "      <td>3700000.0</td>\n",
       "      <td>17.9</td>\n",
       "      <td>18.0</td>\n",
       "      <td>0.463</td>\n",
       "      <td>9.8</td>\n",
       "    </tr>\n",
       "    <tr>\n",
       "      <th>4</th>\n",
       "      <td>Afghanistan</td>\n",
       "      <td>2011</td>\n",
       "      <td>Developing</td>\n",
       "      <td>59.2</td>\n",
       "      <td>275</td>\n",
       "      <td>71</td>\n",
       "      <td>0.01</td>\n",
       "      <td>7.097109</td>\n",
       "      <td>68</td>\n",
       "      <td>3013</td>\n",
       "      <td>...</td>\n",
       "      <td>68</td>\n",
       "      <td>7.87</td>\n",
       "      <td>68</td>\n",
       "      <td>0.1</td>\n",
       "      <td>63.537231</td>\n",
       "      <td>2980000.0</td>\n",
       "      <td>18.2</td>\n",
       "      <td>18.2</td>\n",
       "      <td>0.454</td>\n",
       "      <td>9.5</td>\n",
       "    </tr>\n",
       "  </tbody>\n",
       "</table>\n",
       "<p>5 rows × 22 columns</p>\n",
       "</div>"
      ],
      "text/plain": [
       "       Country  Year      Status  Life expectancy   Adult Mortality  \\\n",
       "0  Afghanistan  2015  Developing              65.0              263   \n",
       "1  Afghanistan  2014  Developing              59.9              271   \n",
       "2  Afghanistan  2013  Developing              59.9              268   \n",
       "3  Afghanistan  2012  Developing              59.5              272   \n",
       "4  Afghanistan  2011  Developing              59.2              275   \n",
       "\n",
       "   infant deaths  Alcohol  percentage expenditure  Hepatitis B  Measles   ...  \\\n",
       "0             62     0.01               71.279624           65      1154  ...   \n",
       "1             64     0.01               73.523582           62       492  ...   \n",
       "2             66     0.01               73.219243           64       430  ...   \n",
       "3             69     0.01               78.184215           67      2787  ...   \n",
       "4             71     0.01                7.097109           68      3013  ...   \n",
       "\n",
       "   Polio  Total expenditure  Diphtheria    HIV/AIDS         GDP  Population  \\\n",
       "0      6               8.16           65        0.1  584.259210  33700000.0   \n",
       "1     58               8.18           62        0.1  612.696514    327582.0   \n",
       "2     62               8.13           64        0.1  631.744976  31700000.0   \n",
       "3     67               8.52           67        0.1  669.959000   3700000.0   \n",
       "4     68               7.87           68        0.1   63.537231   2980000.0   \n",
       "\n",
       "    thinness  1-19 years   thinness 5-9 years  \\\n",
       "0                   17.2                 17.3   \n",
       "1                   17.5                 17.5   \n",
       "2                   17.7                 17.7   \n",
       "3                   17.9                 18.0   \n",
       "4                   18.2                 18.2   \n",
       "\n",
       "   Income composition of resources  Schooling  \n",
       "0                            0.479       10.1  \n",
       "1                            0.476       10.0  \n",
       "2                            0.470        9.9  \n",
       "3                            0.463        9.8  \n",
       "4                            0.454        9.5  \n",
       "\n",
       "[5 rows x 22 columns]"
      ]
     },
     "execution_count": 6,
     "metadata": {},
     "output_type": "execute_result"
    }
   ],
   "source": [
    "# Load the dataset\n",
    "df = pd.read_csv(\"Life_Expectancy_Data.csv\")\n",
    "# Print the first five rows\n",
    "df.head()"
   ]
  },
  {
   "cell_type": "code",
   "execution_count": 7,
   "id": "7d1adf7a",
   "metadata": {},
   "outputs": [
    {
     "name": "stdout",
     "output_type": "stream",
     "text": [
      "\tGDP Stats\n",
      "Mean: 5566.031886817592\n",
      "Standard Deviation: 11475.90011727456\n",
      "Size: 1649\n"
     ]
    }
   ],
   "source": [
    "# Compute the mean, standard deviation, and size of the \"GDP\" feature\n",
    "mean = df[\"GDP\"].mean()\n",
    "std_dev = df[\"GDP\"].std()\n",
    "n = df[\"GDP\"].size\n",
    "\n",
    "print(\"\\tGDP Stats\")\n",
    "print(\"Mean:\", mean)\n",
    "print(\"Standard Deviation:\", std_dev)\n",
    "print(\"Size:\", n)"
   ]
  },
  {
   "cell_type": "code",
   "execution_count": 8,
   "id": "46b7c5bf",
   "metadata": {},
   "outputs": [],
   "source": [
    "pop_mean = 5400  \n",
    "# Calculate Z-score\n",
    "z_score = (mean - pop_mean) / (std_dev / (n ** 0.5))\n",
    "# Calculate p-value\n",
    "p_value = stats.norm.cdf(z_score)"
   ]
  },
  {
   "cell_type": "code",
   "execution_count": 9,
   "id": "22ac0b95",
   "metadata": {},
   "outputs": [
    {
     "name": "stdout",
     "output_type": "stream",
     "text": [
      "Z-Score: 0.5875097408137533\n",
      "p-Value: 0.7215692948179755\n"
     ]
    }
   ],
   "source": [
    "print(\"Z-Score:\", z_score)\n",
    "print(\"p-Value:\", p_value)"
   ]
  },
  {
   "cell_type": "markdown",
   "id": "cf0db70f",
   "metadata": {},
   "source": [
    "# Q2) Part C:"
   ]
  },
  {
   "cell_type": "markdown",
   "id": "526f050d",
   "metadata": {},
   "source": [
    "The Null Hypothesis (H0) states that the average GDP of the world is greater than or equal to 5400. Whilst the alternative Hypothesis (H1) states that the average GDP of the world is less than 5400 (u < 5400)\n",
    "\n",
    "Based on the Z-test results, we obtained a p-value of 0.722\n",
    "\n",
    "Hence, we fail to reject H0 since value of p is greater than alpha i.e 0.05"
   ]
  },
  {
   "cell_type": "markdown",
   "id": "b30b0caa",
   "metadata": {},
   "source": [
    "# Q3) Part A:"
   ]
  },
  {
   "cell_type": "markdown",
   "id": "852392a0",
   "metadata": {},
   "source": [
    "Population of Interest: All the countries in the world"
   ]
  },
  {
   "cell_type": "markdown",
   "id": "a0a31744",
   "metadata": {},
   "source": [
    "Step 2: Null Hypothesis: The life expectancy of the developed world is not significantly higher than the developing world"
   ]
  },
  {
   "cell_type": "markdown",
   "id": "5b1670c2",
   "metadata": {},
   "source": [
    "Alternative Hypothesis: The life expectancy of the developed world is significantly higher than the developing world"
   ]
  },
  {
   "cell_type": "markdown",
   "id": "51eff30e",
   "metadata": {},
   "source": [
    "# Q3) Part B:"
   ]
  },
  {
   "cell_type": "code",
   "execution_count": 10,
   "id": "e3872833",
   "metadata": {},
   "outputs": [],
   "source": [
    "import pandas as pd\n",
    "import statistics\n",
    "from scipy import stats"
   ]
  },
  {
   "cell_type": "code",
   "execution_count": 11,
   "id": "ad54b73e",
   "metadata": {},
   "outputs": [
    {
     "data": {
      "text/html": [
       "<div>\n",
       "<style scoped>\n",
       "    .dataframe tbody tr th:only-of-type {\n",
       "        vertical-align: middle;\n",
       "    }\n",
       "\n",
       "    .dataframe tbody tr th {\n",
       "        vertical-align: top;\n",
       "    }\n",
       "\n",
       "    .dataframe thead th {\n",
       "        text-align: right;\n",
       "    }\n",
       "</style>\n",
       "<table border=\"1\" class=\"dataframe\">\n",
       "  <thead>\n",
       "    <tr style=\"text-align: right;\">\n",
       "      <th></th>\n",
       "      <th>Country</th>\n",
       "      <th>Year</th>\n",
       "      <th>Status</th>\n",
       "      <th>Life expectancy</th>\n",
       "      <th>Adult Mortality</th>\n",
       "      <th>infant deaths</th>\n",
       "      <th>Alcohol</th>\n",
       "      <th>percentage expenditure</th>\n",
       "      <th>Hepatitis B</th>\n",
       "      <th>Measles</th>\n",
       "      <th>...</th>\n",
       "      <th>Polio</th>\n",
       "      <th>Total expenditure</th>\n",
       "      <th>Diphtheria</th>\n",
       "      <th>HIV/AIDS</th>\n",
       "      <th>GDP</th>\n",
       "      <th>Population</th>\n",
       "      <th>thinness  1-19 years</th>\n",
       "      <th>thinness 5-9 years</th>\n",
       "      <th>Income composition of resources</th>\n",
       "      <th>Schooling</th>\n",
       "    </tr>\n",
       "  </thead>\n",
       "  <tbody>\n",
       "    <tr>\n",
       "      <th>0</th>\n",
       "      <td>Afghanistan</td>\n",
       "      <td>2015</td>\n",
       "      <td>Developing</td>\n",
       "      <td>65.0</td>\n",
       "      <td>263</td>\n",
       "      <td>62</td>\n",
       "      <td>0.01</td>\n",
       "      <td>71.279624</td>\n",
       "      <td>65</td>\n",
       "      <td>1154</td>\n",
       "      <td>...</td>\n",
       "      <td>6</td>\n",
       "      <td>8.16</td>\n",
       "      <td>65</td>\n",
       "      <td>0.1</td>\n",
       "      <td>584.259210</td>\n",
       "      <td>33700000.0</td>\n",
       "      <td>17.2</td>\n",
       "      <td>17.3</td>\n",
       "      <td>0.479</td>\n",
       "      <td>10.1</td>\n",
       "    </tr>\n",
       "    <tr>\n",
       "      <th>1</th>\n",
       "      <td>Afghanistan</td>\n",
       "      <td>2014</td>\n",
       "      <td>Developing</td>\n",
       "      <td>59.9</td>\n",
       "      <td>271</td>\n",
       "      <td>64</td>\n",
       "      <td>0.01</td>\n",
       "      <td>73.523582</td>\n",
       "      <td>62</td>\n",
       "      <td>492</td>\n",
       "      <td>...</td>\n",
       "      <td>58</td>\n",
       "      <td>8.18</td>\n",
       "      <td>62</td>\n",
       "      <td>0.1</td>\n",
       "      <td>612.696514</td>\n",
       "      <td>327582.0</td>\n",
       "      <td>17.5</td>\n",
       "      <td>17.5</td>\n",
       "      <td>0.476</td>\n",
       "      <td>10.0</td>\n",
       "    </tr>\n",
       "    <tr>\n",
       "      <th>2</th>\n",
       "      <td>Afghanistan</td>\n",
       "      <td>2013</td>\n",
       "      <td>Developing</td>\n",
       "      <td>59.9</td>\n",
       "      <td>268</td>\n",
       "      <td>66</td>\n",
       "      <td>0.01</td>\n",
       "      <td>73.219243</td>\n",
       "      <td>64</td>\n",
       "      <td>430</td>\n",
       "      <td>...</td>\n",
       "      <td>62</td>\n",
       "      <td>8.13</td>\n",
       "      <td>64</td>\n",
       "      <td>0.1</td>\n",
       "      <td>631.744976</td>\n",
       "      <td>31700000.0</td>\n",
       "      <td>17.7</td>\n",
       "      <td>17.7</td>\n",
       "      <td>0.470</td>\n",
       "      <td>9.9</td>\n",
       "    </tr>\n",
       "    <tr>\n",
       "      <th>3</th>\n",
       "      <td>Afghanistan</td>\n",
       "      <td>2012</td>\n",
       "      <td>Developing</td>\n",
       "      <td>59.5</td>\n",
       "      <td>272</td>\n",
       "      <td>69</td>\n",
       "      <td>0.01</td>\n",
       "      <td>78.184215</td>\n",
       "      <td>67</td>\n",
       "      <td>2787</td>\n",
       "      <td>...</td>\n",
       "      <td>67</td>\n",
       "      <td>8.52</td>\n",
       "      <td>67</td>\n",
       "      <td>0.1</td>\n",
       "      <td>669.959000</td>\n",
       "      <td>3700000.0</td>\n",
       "      <td>17.9</td>\n",
       "      <td>18.0</td>\n",
       "      <td>0.463</td>\n",
       "      <td>9.8</td>\n",
       "    </tr>\n",
       "    <tr>\n",
       "      <th>4</th>\n",
       "      <td>Afghanistan</td>\n",
       "      <td>2011</td>\n",
       "      <td>Developing</td>\n",
       "      <td>59.2</td>\n",
       "      <td>275</td>\n",
       "      <td>71</td>\n",
       "      <td>0.01</td>\n",
       "      <td>7.097109</td>\n",
       "      <td>68</td>\n",
       "      <td>3013</td>\n",
       "      <td>...</td>\n",
       "      <td>68</td>\n",
       "      <td>7.87</td>\n",
       "      <td>68</td>\n",
       "      <td>0.1</td>\n",
       "      <td>63.537231</td>\n",
       "      <td>2980000.0</td>\n",
       "      <td>18.2</td>\n",
       "      <td>18.2</td>\n",
       "      <td>0.454</td>\n",
       "      <td>9.5</td>\n",
       "    </tr>\n",
       "  </tbody>\n",
       "</table>\n",
       "<p>5 rows × 22 columns</p>\n",
       "</div>"
      ],
      "text/plain": [
       "       Country  Year      Status  Life expectancy   Adult Mortality  \\\n",
       "0  Afghanistan  2015  Developing              65.0              263   \n",
       "1  Afghanistan  2014  Developing              59.9              271   \n",
       "2  Afghanistan  2013  Developing              59.9              268   \n",
       "3  Afghanistan  2012  Developing              59.5              272   \n",
       "4  Afghanistan  2011  Developing              59.2              275   \n",
       "\n",
       "   infant deaths  Alcohol  percentage expenditure  Hepatitis B  Measles   ...  \\\n",
       "0             62     0.01               71.279624           65      1154  ...   \n",
       "1             64     0.01               73.523582           62       492  ...   \n",
       "2             66     0.01               73.219243           64       430  ...   \n",
       "3             69     0.01               78.184215           67      2787  ...   \n",
       "4             71     0.01                7.097109           68      3013  ...   \n",
       "\n",
       "   Polio  Total expenditure  Diphtheria    HIV/AIDS         GDP  Population  \\\n",
       "0      6               8.16           65        0.1  584.259210  33700000.0   \n",
       "1     58               8.18           62        0.1  612.696514    327582.0   \n",
       "2     62               8.13           64        0.1  631.744976  31700000.0   \n",
       "3     67               8.52           67        0.1  669.959000   3700000.0   \n",
       "4     68               7.87           68        0.1   63.537231   2980000.0   \n",
       "\n",
       "    thinness  1-19 years   thinness 5-9 years  \\\n",
       "0                   17.2                 17.3   \n",
       "1                   17.5                 17.5   \n",
       "2                   17.7                 17.7   \n",
       "3                   17.9                 18.0   \n",
       "4                   18.2                 18.2   \n",
       "\n",
       "   Income composition of resources  Schooling  \n",
       "0                            0.479       10.1  \n",
       "1                            0.476       10.0  \n",
       "2                            0.470        9.9  \n",
       "3                            0.463        9.8  \n",
       "4                            0.454        9.5  \n",
       "\n",
       "[5 rows x 22 columns]"
      ]
     },
     "execution_count": 11,
     "metadata": {},
     "output_type": "execute_result"
    }
   ],
   "source": [
    "# Load the dataset\n",
    "df = pd.read_csv(\"Life_Expectancy_Data.csv\")\n",
    "# Print the first five rows\n",
    "df.head()"
   ]
  },
  {
   "cell_type": "code",
   "execution_count": 12,
   "id": "d50abb40",
   "metadata": {},
   "outputs": [],
   "source": [
    "# Create two lists for \"Developing\" and \"Developed\" countries\n",
    "developing = df[df[\"Status\"] == \"Developing\"][\"Life expectancy \"].tolist()\n",
    "developed = df[df[\"Status\"] == \"Developed\"][\"Life expectancy \"].tolist()"
   ]
  },
  {
   "cell_type": "code",
   "execution_count": 13,
   "id": "18412fb7",
   "metadata": {},
   "outputs": [
    {
     "name": "stdout",
     "output_type": "stream",
     "text": [
      "\tStats for Developing Countries \n",
      "Mean Life Expectancy: 67.68734896943852\n",
      "Standard Deviation of Life Expectancy: 8.353982824185263\n",
      "Size: 1407\n"
     ]
    }
   ],
   "source": [
    "# Compute and print the mean, standard deviation, and size of \"Life expectancy\" in developing countries\n",
    "developing_mean = statistics.mean(developing)\n",
    "developing_std_dev = statistics.stdev(developing)\n",
    "developing_size = len(developing)\n",
    "\n",
    "print(\"\\tStats for Developing Countries \")\n",
    "print(\"Mean Life Expectancy:\", developing_mean)\n",
    "print(\"Standard Deviation of Life Expectancy:\", developing_std_dev)\n",
    "print(\"Size:\", developing_size)"
   ]
  },
  {
   "cell_type": "code",
   "execution_count": 14,
   "id": "8cb3e1ce",
   "metadata": {},
   "outputs": [
    {
     "name": "stdout",
     "output_type": "stream",
     "text": [
      "\tStats for Developed Countries \n",
      "Mean Life Expectancy: 78.69173553719008\n",
      "Standard Deviation of Life Expectancy: 4.273484527228104\n",
      "Size: 242\n"
     ]
    }
   ],
   "source": [
    "# Compute and print the mean, standard deviation, and size of \"Life expectancy\" in developed countries\n",
    "developed_mean = statistics.mean(developed)\n",
    "developed_std_dev = statistics.stdev(developed)\n",
    "developed_size = len(developed)\n",
    "\n",
    "print(\"\\tStats for Developed Countries \")\n",
    "print(\"Mean Life Expectancy:\", developed_mean)\n",
    "print(\"Standard Deviation of Life Expectancy:\", developed_std_dev)\n",
    "print(\"Size:\", developed_size)"
   ]
  },
  {
   "cell_type": "code",
   "execution_count": 16,
   "id": "796bfe72",
   "metadata": {},
   "outputs": [],
   "source": [
    "# Perform Z-test for two populations\n",
    "z_statistic, p_value = stats.ttest_ind(developing, developed)"
   ]
  },
  {
   "cell_type": "code",
   "execution_count": 17,
   "id": "d5a2cbd9",
   "metadata": {},
   "outputs": [
    {
     "name": "stdout",
     "output_type": "stream",
     "text": [
      "Z-statistic: -20.04208196882747\n",
      "P-value: 3.9228534194275335e-80\n"
     ]
    }
   ],
   "source": [
    "# Print the results\n",
    "print(\"Z-statistic:\", z_statistic)\n",
    "print(\"P-value:\", p_value)"
   ]
  },
  {
   "cell_type": "markdown",
   "id": "34bcc683",
   "metadata": {},
   "source": [
    "# Q3) Part C:"
   ]
  },
  {
   "cell_type": "markdown",
   "id": "0d8a7c60",
   "metadata": {},
   "source": [
    "The null hypothesis (H0) states that there is no significant difference in the life expectancy between the developed and developing world. The alternative hypothesis (H1) states that the life expectancy of the developed world is significantly higher than the developing world.\n",
    "\n",
    "Based on the Z-test results, we obtained a p-value of 3.93e^-80\n",
    "\n",
    "Hence, we have rejected the null hypothesis"
   ]
  }
 ],
 "metadata": {
  "kernelspec": {
   "display_name": "Python 3 (ipykernel)",
   "language": "python",
   "name": "python3"
  },
  "language_info": {
   "codemirror_mode": {
    "name": "ipython",
    "version": 3
   },
   "file_extension": ".py",
   "mimetype": "text/x-python",
   "name": "python",
   "nbconvert_exporter": "python",
   "pygments_lexer": "ipython3",
   "version": "3.9.12"
  }
 },
 "nbformat": 4,
 "nbformat_minor": 5
}
